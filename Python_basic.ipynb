{
 "cells": [
  {
   "cell_type": "code",
   "execution_count": 3,
   "id": "7ccbe8b1",
   "metadata": {},
   "outputs": [
    {
     "name": "stdout",
     "output_type": "stream",
     "text": [
      "Enter value of n:5\n",
      "Weird\n"
     ]
    }
   ],
   "source": [
    "# python if-else\n",
    "\n",
    "import math\n",
    "import os\n",
    "import random\n",
    "import re\n",
    "import sys\n",
    "\n",
    "n = int(input(\"Enter value of n:\"))\n",
    "\n",
    "if n%2 != 0:\n",
    "    print(\"Weird\")\n",
    "elif n%2 == 0 and n>=2 and n<=5:\n",
    "    print(\"Not Weird\")\n",
    "elif n%2 == 0 and n>=6 and n<=20:\n",
    "    print(\"Weird\")\n",
    "elif n%2 == 0 and n>20:\n",
    "    print(\"Not Weird\")      \n"
   ]
  },
  {
   "cell_type": "code",
   "execution_count": 4,
   "id": "f7fef6c2",
   "metadata": {},
   "outputs": [
    {
     "name": "stdout",
     "output_type": "stream",
     "text": [
      "Enter value of a:3\n",
      "Enter value of b:2\n",
      "5\n",
      "1\n",
      "6\n"
     ]
    }
   ],
   "source": [
    "# Arithematic Operators\n",
    "\n",
    "a = int(input(\"Enter value of a:\"))\n",
    "b = int(input(\"Enter value of b:\"))\n",
    "\n",
    "print(a + b)\n",
    "print(a - b)\n",
    "print(a * b)"
   ]
  },
  {
   "cell_type": "code",
   "execution_count": 5,
   "id": "be6a4d84",
   "metadata": {},
   "outputs": [
    {
     "name": "stdout",
     "output_type": "stream",
     "text": [
      "Enter value of c:4\n",
      "Enter value of d:3\n",
      "1\n",
      "1.3333333333333333\n"
     ]
    }
   ],
   "source": [
    "# python division\n",
    "\n",
    "c = int(input(\"Enter value of c:\"))\n",
    "d = int(input(\"Enter value of d:\"))\n",
    "\n",
    "print(c//d)\n",
    "print(c/d)\n",
    "\n"
   ]
  },
  {
   "cell_type": "code",
   "execution_count": 6,
   "id": "924cd2ee",
   "metadata": {},
   "outputs": [
    {
     "name": "stdout",
     "output_type": "stream",
     "text": [
      "Enter value of n:5\n",
      "0\n",
      "1\n",
      "4\n",
      "9\n",
      "16\n"
     ]
    }
   ],
   "source": [
    "# loops\n",
    "\n",
    "n = int(input(\"Enter value of n:\"))\n",
    "\n",
    "for i in range(n):\n",
    "    print(i*i) "
   ]
  },
  {
   "cell_type": "code",
   "execution_count": 7,
   "id": "0f396214",
   "metadata": {},
   "outputs": [
    {
     "name": "stdout",
     "output_type": "stream",
     "text": [
      "Enter a year:2012\n",
      "True\n"
     ]
    }
   ],
   "source": [
    " # Write a function\n",
    "    \n",
    "def is_leap(year):\n",
    "    leap = False\n",
    "   # if (year%4 == 0 and year%100 != 0) or (year%400 == 0):\n",
    "   #     leap = true\n",
    "    \n",
    "    if year % 400 == 0:\n",
    "        leap = True\n",
    "    elif year % 100 ==0:\n",
    "        leap = False\n",
    "    elif year % 4 == 0:\n",
    "        leap = True\n",
    "    else:\n",
    "        leap = False  \n",
    "   \n",
    "    # Write your logic here\n",
    "    \n",
    "    return leap\n",
    "\n",
    "year = int(input(\"Enter a year:\"))\n",
    "print(is_leap(year))"
   ]
  },
  {
   "cell_type": "code",
   "execution_count": 9,
   "id": "7a309f26",
   "metadata": {},
   "outputs": [
    {
     "name": "stdout",
     "output_type": "stream",
     "text": [
      "Enter value of n:5\n",
      "12345"
     ]
    }
   ],
   "source": [
    "# print function\n",
    "\n",
    "n = int(input(\"Enter value of n:\"))\n",
    "\n",
    "for i in range(1,n+1):\n",
    "    print(i,end=\"\") \n"
   ]
  },
  {
   "cell_type": "code",
   "execution_count": 1,
   "id": "ce52a676",
   "metadata": {},
   "outputs": [
    {
     "name": "stdout",
     "output_type": "stream",
     "text": [
      "Enter value of x:1\n",
      "Enter value of y:1\n",
      "Enter value of z:2\n",
      "Enter value of n:2\n",
      "[[0, 0, 0], [0, 0, 1], [0, 1, 0], [0, 1, 2], [1, 0, 0], [1, 0, 2], [1, 1, 1], [1, 1, 2]]\n"
     ]
    }
   ],
   "source": [
    "#list comprehension\n",
    "\n",
    "x = int(input(\"Enter value of x:\"))\n",
    "y = int(input(\"Enter value of y:\"))\n",
    "z = int(input(\"Enter value of z:\"))\n",
    "n = int(input(\"Enter value of n:\"))  \n",
    "print ([[a,b,c] for a in range(0,x+1) for b in range(0,y+1) for c in range(0,z+1) if a + b + c != n ])"
   ]
  },
  {
   "cell_type": "code",
   "execution_count": 8,
   "id": "7b16388e",
   "metadata": {},
   "outputs": [
    {
     "name": "stdout",
     "output_type": "stream",
     "text": [
      "Enter a list elements: 4 5 3 4 5\n",
      "4\n"
     ]
    }
   ],
   "source": [
    "# finding runner-run \n",
    "\n",
    "input_str= input(\"Enter a list elements: \")\n",
    "arr = input_str.split()\n",
    "\n",
    "new_list = set(arr)\n",
    "new_list.remove(max(new_list))\n",
    "print(max(new_list))\n"
   ]
  },
  {
   "cell_type": "code",
   "execution_count": 16,
   "id": "b53007cd",
   "metadata": {},
   "outputs": [
    {
     "ename": "SyntaxError",
     "evalue": "invalid syntax (<ipython-input-16-40ce7e8bff2a>, line 12)",
     "output_type": "error",
     "traceback": [
      "\u001b[1;36m  File \u001b[1;32m\"<ipython-input-16-40ce7e8bff2a>\"\u001b[1;36m, line \u001b[1;32m12\u001b[0m\n\u001b[1;33m    new_list = set(marks)\u001b[0m\n\u001b[1;37m    ^\u001b[0m\n\u001b[1;31mSyntaxError\u001b[0m\u001b[1;31m:\u001b[0m invalid syntax\n"
     ]
    }
   ],
   "source": [
    "#\n",
    "\n",
    "n= int(input(\"Enter no. of students\")) \n",
    "print(\"Enter the student names and marks\")\n",
    "for i in range(n):\n",
    "    name = input()\n",
    "    marks = input()\n",
    "\n",
    "for i in range(n):\n",
    "    list = [[name[i],marks[i]]                          \n",
    "       \n",
    "new_list = set(marks)\n",
    "new_list.remove(min(new_list))\n",
    "sec = min(new_list)\n",
    "\n",
    "for name,score in list:\n",
    "    if score == sec:\n",
    "        print(name)\n",
    "        "
   ]
  },
  {
   "cell_type": "code",
   "execution_count": 18,
   "id": "c3a20bfd",
   "metadata": {},
   "outputs": [
    {
     "name": "stdout",
     "output_type": "stream",
     "text": [
      "Enter the number:4\n",
      "Cherry\n",
      "23.3\n",
      "Berry\n",
      "63.3\n",
      "Amanda\n",
      "42\n",
      "Heath\n",
      "11.42\n",
      "Cherry\n"
     ]
    }
   ],
   "source": [
    "# \n",
    "\n",
    "a = []\n",
    "n=int(input(\"Enter the number:\"))\n",
    "for i in range(n):\n",
    "    name = input()\n",
    "    score = float(input())\n",
    "    a.append([score, name])\n",
    "\n",
    "a.sort()\n",
    "b = [i for i in a if i[0] != a[0][0]]\n",
    "c = [j for j in b if j[0] == b[0][0]]\n",
    "    \n",
    "c.sort(key=lambda x: x[1])\n",
    "for i in range(len(c)):\n",
    "    print(c[i][1])        \n",
    "        \n"
   ]
  },
  {
   "cell_type": "code",
   "execution_count": null,
   "id": "27db9cf6",
   "metadata": {},
   "outputs": [],
   "source": []
  }
 ],
 "metadata": {
  "kernelspec": {
   "display_name": "Python 3",
   "language": "python",
   "name": "python3"
  },
  "language_info": {
   "codemirror_mode": {
    "name": "ipython",
    "version": 3
   },
   "file_extension": ".py",
   "mimetype": "text/x-python",
   "name": "python",
   "nbconvert_exporter": "python",
   "pygments_lexer": "ipython3",
   "version": "3.8.8"
  }
 },
 "nbformat": 4,
 "nbformat_minor": 5
}
